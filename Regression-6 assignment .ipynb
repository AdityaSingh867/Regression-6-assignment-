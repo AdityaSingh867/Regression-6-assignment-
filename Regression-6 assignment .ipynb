{
 "cells": [
  {
   "cell_type": "markdown",
   "id": "34a2ce40-7540-4fa7-9609-839c911465c1",
   "metadata": {},
   "source": [
    "Q1. What are the key steps involved in building an end-to-end web application, from development to\n",
    "deployment on the cloud?"
   ]
  },
  {
   "cell_type": "markdown",
   "id": "809da396-c888-4659-b51a-ca227c8433d3",
   "metadata": {},
   "source": [
    "These are the steps to make end to end we application : \n",
    "- Clean the dataset which you have\n",
    "- did EDA \n",
    "- did Feature Engineering\n",
    "- and clean the dataset and than save it for importing in side flask Dataset folder\n",
    "- Feature selection\n",
    "- trian test split\n",
    "- Standard scaling of X_train and X_test\n",
    "- Ridge , Lasso , Elastic Net , Linear Regression and choose the appropriate option for model accuracy\n",
    "- And make the pickle file of the Regression and also make the pickle file of the Standard scaler for using in end to end project steps which we did in flask\n",
    "- open the flask \n",
    "- make folder in flask (model , Notebooks , templates , Dataset)\n",
    "- and import the files in the folders\n",
    "- import the the both pickle file (Standart scaler ,  (Ridge , Lasso , Elastic Net , Linear Regression) which you choose for model) in inside the model folder\n",
    "- import the eda file and model traning file in Notebook folder\n",
    "- import the clean Dataset in Dataset folder\n",
    "- and write a code for web application in app.py flie which located in the flask WORKSPACE\n",
    "- After making the we application check it and deploy it on aws"
   ]
  },
  {
   "cell_type": "markdown",
   "id": "b7d1d1f9-64b7-4d93-b8af-1ac895f680f0",
   "metadata": {},
   "source": [
    "Q2. Explain the difference between traditional web hosting and cloud hosting."
   ]
  },
  {
   "cell_type": "markdown",
   "id": "d055ec4f-b8c9-4680-8ef9-6971b66b3957",
   "metadata": {},
   "source": [
    "Traditional web hosting relies on a single physical server, while cloud hosting utilizes a network of virtual servers. Cloud hosting offers scalability, reliability, cost efficiency, and greater control, making it ideal for dynamic websites and applications with fluctuating traffic."
   ]
  },
  {
   "cell_type": "markdown",
   "id": "d235800a-578f-44f0-9fa3-44db6360dfef",
   "metadata": {},
   "source": [
    "Q3. How do you choose the right cloud provider for your application deployment, and what factors\n",
    "should you consider?"
   ]
  },
  {
   "cell_type": "markdown",
   "id": "ba8c1898-0b46-4758-8c69-f835f4baa815",
   "metadata": {},
   "source": [
    "When choosing a cloud provider for application deployment, consider factors such as reliability, performance, scalability, cost, security measures, data center locations, available services, support options, integration capabilities, and compliance with industry standards. Assessing these factors ensures the provider aligns with your specific application requirements and business needs."
   ]
  },
  {
   "cell_type": "markdown",
   "id": "b8044cd3-78f6-473b-afba-f8b606636691",
   "metadata": {},
   "source": [
    "Q4. How do you design and build a responsive user interface for your web application, and what are\n",
    "some best practices to follow?"
   ]
  },
  {
   "cell_type": "markdown",
   "id": "0e286a6a-9a50-42cf-8fe6-a3309eef5e4b",
   "metadata": {},
   "source": [
    "To design a responsive UI, adopt a mobile-first approach, use fluid layouts with relative units, employ media queries for different screen sizes, ensure flexible images with proportional resizing, and prioritize clear navigation. Optimize content hierarchy, minimize text, and use intuitive touch-friendly elements. Test and iterate across various devices to ensure a consistent and user-friendly experience."
   ]
  },
  {
   "cell_type": "markdown",
   "id": "405390aa-4a73-476b-87b3-4efa099c9d41",
   "metadata": {},
   "source": [
    "Q5. How do you integrate the machine learning model with the user interface for the Algerian Forest Fires\n",
    "project(which we discussed in class), and what APIs or libraries can you use for this purpose?"
   ]
  },
  {
   "cell_type": "markdown",
   "id": "49de3bf6-419f-47cc-b414-8803bb6c3015",
   "metadata": {},
   "source": [
    "- Clean the dataset which you have\n",
    "- did EDA \n",
    "- did Feature Engineering\n",
    "- and clean the dataset and than save it for importing in side flask Dataset folder\n",
    "- Feature selection\n",
    "- trian test split\n",
    "- Standard scaling of X_train and X_test\n",
    "- Ridge , Lasso , Elastic Net , Linear Regression and choose the appropriate option for model accuracy\n",
    "- And make the pickle file of the Regression and also make the pickle file of the Standard scaler for using in end to end project steps which we did in flask\n",
    "- open the flask \n",
    "- make folder in flask (model , Notebooks , templates , Dataset)\n",
    "- and load the files in the folders\n",
    "- load the the both pickle file (Standart scaler ,  (Ridge , Lasso , Elastic Net , Linear Regression) which you choose for model) in inside the model folder\n",
    "- load the eda file and model traning file in Notebook folder\n",
    "- load the clean Dataset in Dataset folder\n",
    "- load home page code in the form of html in inside the templates folder\n",
    "- first a fall import the important library in flask\n",
    "- for importing the library\n",
    "- step 1 __ go in requirements.txt file\n",
    "- step 2 __ the the names of file (flask , pandas , numpy , scikit-learn)\n",
    "- step 3 __ run code \n",
    "- For running the code \n",
    "- STEP 1 __ go and click on three line which is located in left upper side\n",
    "- STEP 2 __ click on Terminal\n",
    "- STEP 3 __ and than click on New Terminal\n",
    "- STEP 4 __ and write a code pip install -r requirements.txt\n",
    "- your all library are installed \n",
    "- Now we are ready to make we application\n",
    "- ok now go in app.py and write for importing libary (import pandas as pd , import numpy as np , fro flask import flask , request , jsonify , render_template  , import pickle ,  from sklearn.preprocessing import StandardScaler)\n",
    "- and load the pickle files by using pickle.load(open('file_name.pkl' , 'rb'))\n",
    "- Standard_scaler = pickle.load(open('model/scaler.pkl' , 'rb')) # my pickle file is in model folde thats why am write model/scaler.pkl\n",
    "- ridge_model = pickle.load(open('model/ridge.pkl')) # my pickle file is in model folde thats why am write model/ridge.pkl\n",
    "- ok than we write the code for main web application \n",
    "\n",
    "@app.route('/predictdata' , methods = ['GET' , 'POST'])\n",
    "\n",
    "def predict_datapoint():\n",
    "\n",
    "    if request.method=='POST':\n",
    "        Temperature = float(request.form.get('Temperature'))\n",
    "        RH = float(request.form.get('RH'))\n",
    "        Ws = float(request.form.get('Ws'))\n",
    "        Rain = float(request.form.get('Rain'))\n",
    "        FFMC = float(request.form.get('FFMC'))\n",
    "        DMC = float(request.form.get('DMC'))\n",
    "        ISI  = float(request.form.get('ISI'))\n",
    "        Classes = float(request.form.get('Classes'))\n",
    "        Region = float(request.form.get('Region'))\n",
    "\n",
    "        new_data_scaled = Standard_Scaler.transform([[Temperature ,RH,  Ws ,Rain, FFMC ,DMC, ISI ,Classes ,Region]])\n",
    "        result = ridge_model.predict(new_data_scaled)\n",
    "\n",
    "        return render_template('home.html' , result=result[0]) # ye result list ke formate ma aye ga to first element ko lane ke leye hamne [0] likha hai\n",
    "\n",
    "\n",
    "    else:\n",
    "        return render_template('home.html')\n",
    "        \n",
    "        \n",
    "if __name__==\"__main__\":\n",
    "\n",
    "    app.run(host=\"0.0.0.0\")        "
   ]
  },
  {
   "cell_type": "markdown",
   "id": "e8eb156a-21c8-4111-ad48-cd0b131b0c46",
   "metadata": {},
   "source": [
    "__And than we commit that project in github__"
   ]
  },
  {
   "cell_type": "code",
   "execution_count": null,
   "id": "a709ef86-5887-44dd-95c8-22d89e723f80",
   "metadata": {},
   "outputs": [],
   "source": []
  }
 ],
 "metadata": {
  "kernelspec": {
   "display_name": "Python 3 (ipykernel)",
   "language": "python",
   "name": "python3"
  },
  "language_info": {
   "codemirror_mode": {
    "name": "ipython",
    "version": 3
   },
   "file_extension": ".py",
   "mimetype": "text/x-python",
   "name": "python",
   "nbconvert_exporter": "python",
   "pygments_lexer": "ipython3",
   "version": "3.10.8"
  }
 },
 "nbformat": 4,
 "nbformat_minor": 5
}
